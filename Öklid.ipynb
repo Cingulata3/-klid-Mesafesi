{
  "nbformat": 4,
  "nbformat_minor": 0,
  "metadata": {
    "colab": {
      "provenance": []
    },
    "kernelspec": {
      "name": "python3",
      "display_name": "Python 3"
    },
    "language_info": {
      "name": "python"
    }
  },
  "cells": [
    {
      "cell_type": "code",
      "execution_count": 10,
      "metadata": {
        "colab": {
          "base_uri": "https://localhost:8080/"
        },
        "id": "tjzYowh6TjYc",
        "outputId": "6ffdd815-72cb-49c2-b004-8668039d35e6"
      },
      "outputs": [
        {
          "output_type": "stream",
          "name": "stdout",
          "text": [
            "Minimum mesafe: 2.8284271247461903\n"
          ]
        }
      ],
      "source": [
        "import math\n",
        "\n",
        "# Noktaların tanımlanması\n",
        "points = [(1, 2), (3, 4), (5, 6), (7, 8)]\n",
        "\n",
        "# Öklid mesafesi için fonksiyonun tanımlanması\n",
        "def euclideanDistance(point1, point2):\n",
        "    x1, y1 = point1\n",
        "    x2, y2 = point2\n",
        "    return math.sqrt((x2 - x1) ** 2 + (y2 - y1) ** 2)\n",
        "\n",
        "# Mesafelerin hesaplanması\n",
        "distances = []\n",
        "for i in range(len(points)):\n",
        "    for j in range(i + 1, len(points)):\n",
        "        distance = euclideanDistance(points[i], points[j])\n",
        "        distances.append(distance)\n",
        "\n",
        "# Minimum mesafenin bulunması\n",
        "min_distance = min(distances)\n",
        "print(\"Minimum mesafe:\", min_distance)"
      ]
    }
  ]
}